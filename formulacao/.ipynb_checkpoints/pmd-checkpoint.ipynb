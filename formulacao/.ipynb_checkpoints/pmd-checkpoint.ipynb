{
 "cells": [
  {
   "cell_type": "code",
   "execution_count": 1,
   "metadata": {},
   "outputs": [],
   "source": [
    "using JuMP\n",
    "using GLPKMathProgInterface"
   ]
  },
  {
   "cell_type": "code",
   "execution_count": 2,
   "metadata": {},
   "outputs": [
    {
     "name": "stdout",
     "output_type": "stream",
     "text": [
      "5 3\n",
      "[1.0, 2.0, 3.0, 4.0, 5.0]\n",
      "[50.0, 0.0, 23.0, 55.0, 103.0]\n",
      "[-25.0, 0.0, 27.0, 28.0, 2.0]\n",
      "[5.0, 4.0, 6.0]\n"
     ]
    }
   ],
   "source": [
    "filename = \"teste\"\n",
    "\n",
    "file = open(filename)\n",
    "lines = readlines(file);\n",
    "\n",
    "n=0\n",
    "g=0\n",
    "pv=0\n",
    "vx=0\n",
    "vy=0\n",
    "M=0\n",
    "\n",
    "for (number, content) in enumerate(lines)\n",
    "    \n",
    "    # Lê o número de vértices e o número de grupos.\n",
    "    if number == 1\n",
    "        (n1, g1) = split(content)\n",
    "        n = parse(Int64, n1)\n",
    "        g = parse(Int64, g1)\n",
    "\n",
    "        pv = Array{Float64, 1}(n)\n",
    "        vx = Array{Float64, 1}(n)\n",
    "        vy = Array{Float64, 1}(n)\n",
    "        M = Array{Float64, 1}(g)\n",
    "    end\n",
    "    \n",
    "    # Lê os pesos e coordenadas dos vértices.\n",
    "    if number > 1 && number < n + 2\n",
    "        (p, x, y) = split(content)\n",
    "        p = parse(Float64, p)\n",
    "        x = parse(Float64, x)\n",
    "        y = parse(Float64, y)\n",
    "        \n",
    "        pv[number - 1] = p\n",
    "        vx[number - 1] = x\n",
    "        vy[number - 1] = y\n",
    "    \n",
    "        \n",
    "    end\n",
    "    \n",
    "    # Lê os pesos alvos dos grupos.\n",
    "    if number >= n + 2 && number <= n + g + 1\n",
    "        M[number - n - 1] = parse(Float64, content);\n",
    "    end\n",
    "end\n",
    "\n",
    "println(n , \" \" , g)\n",
    "println(pv)\n",
    "println(vx)\n",
    "println(vy)\n",
    "println(M)"
   ]
  },
  {
   "cell_type": "code",
   "execution_count": 3,
   "metadata": {},
   "outputs": [],
   "source": [
    "da = Array{Float64,2}(n,n);\n",
    "H = 0;\n",
    "for i = 1:n\n",
    "    for j = (i+1):n\n",
    "        dx = vx[i] - vx[j]\n",
    "        dy = vy[i] - vy[j]\n",
    "        da[i, j] = sqrt(dx*dx + dy*dy)\n",
    "        da[j, i] = sqrt(dx*dx + dy*dy)\n",
    "        if H < da[i, j]\n",
    "            H = da[i,j]\n",
    "        end\n",
    "    end\n",
    "end"
   ]
  },
  {
   "cell_type": "code",
   "execution_count": 4,
   "metadata": {},
   "outputs": [
    {
     "data": {
      "text/latex": [
       "$$ x_{i,j} \\in \\{0,1\\} \\quad\\forall i \\in \\{1,2,3,4,5\\}, j \\in \\{1,2,3\\} $$"
      ],
      "text/plain": [
       "5×3 Array{JuMP.Variable,2}:\n",
       " x[1,1]  x[1,2]  x[1,3]\n",
       " x[2,1]  x[2,2]  x[2,3]\n",
       " x[3,1]  x[3,2]  x[3,3]\n",
       " x[4,1]  x[4,2]  x[4,3]\n",
       " x[5,1]  x[5,2]  x[5,3]"
      ]
     },
     "execution_count": 4,
     "metadata": {},
     "output_type": "execute_result"
    }
   ],
   "source": [
    "#modelo e variaveis do problema\n",
    "m = Model(solver = GLPKSolverMIP(tm_lim=3600000))\n",
    "\n",
    "alpha = 0.05\n",
    "\n",
    "@variable(m, minD[1:g] >= 0)\n",
    "@variable(m, c[1:g], Bin)\n",
    "@variable(m, x[1:n, 1:g], Bin)\n"
   ]
  },
  {
   "cell_type": "code",
   "execution_count": 5,
   "metadata": {},
   "outputs": [
    {
     "data": {
      "text/latex": [
       "$$ minD_{1} + minD_{2} + minD_{3} $$"
      ],
      "text/plain": [
       "minD[1] + minD[2] + minD[3]"
      ]
     },
     "execution_count": 5,
     "metadata": {},
     "output_type": "execute_result"
    }
   ],
   "source": [
    "@objective(m, Max, sum(minD[i] for i in 1:g))\n"
   ]
  },
  {
   "cell_type": "code",
   "execution_count": 6,
   "metadata": {},
   "outputs": [],
   "source": [
    "for v = 1:n\n",
    "\tfor u = v+1:n\n",
    "        \tfor i = 1:g\n",
    "            \t@constraint(m, minD[i] <= da[u,v] + (2-(x[v,i]+x[u,i]))*H)\n",
    "\t        end\n",
    "\tend\n",
    "\n",
    "\t@constraint(m, sum(x[v,k] for k in 1:g) == 1)\n",
    "end\n",
    "\n",
    "for k = 1:g\n",
    "\t@constraints(m, begin\n",
    "        minD[k] <= c[k]*H\n",
    "\t\t(1-alpha)*M[k] <= sum(x[v,k]*pv[v] for v in 1:n)\n",
    "        sum(x[v,k]*pv[v] for v in 1:n) <= (1+alpha)*M[k]\n",
    "        c[k] >= sum(x[v,k] for v in 1:n)/n\n",
    "        c[k] <= sum(x[v,k] for v in 1:n)*1\n",
    "\t\tend)\n",
    "end\n",
    "\n"
   ]
  },
  {
   "cell_type": "code",
   "execution_count": 7,
   "metadata": {},
   "outputs": [
    {
     "data": {
      "text/plain": [
       ":Optimal"
      ]
     },
     "execution_count": 7,
     "metadata": {},
     "output_type": "execute_result"
    }
   ],
   "source": [
    "solve(m)"
   ]
  },
  {
   "cell_type": "code",
   "execution_count": 8,
   "metadata": {},
   "outputs": [
    {
     "name": "stdout",
     "output_type": "stream",
     "text": [
      "peso alvo do grupo 1 = 5.0\n",
      "peso total dos vertices do grupo 1 = 5.0\n",
      "distância minima dos vertices do grupo 1 = 103.01941564578979\n",
      "vertices: [0.0, 0.0, 0.0, 0.0, 1.0]\n",
      "\n",
      "peso alvo do grupo 2 = 4.0\n",
      "peso total dos vertices do grupo 2 = 4.0\n",
      "distância minima dos vertices do grupo 2 = 103.01941564578979\n",
      "vertices: [0.0, 0.0, 0.0, 1.0, 0.0]\n",
      "\n",
      "peso alvo do grupo 3 = 6.0\n",
      "peso total dos vertices do grupo 3 = 6.0\n",
      "distância minima dos vertices do grupo 3 = 35.4682957019364\n",
      "vertices: [1.0, 1.0, 1.0, 0.0, 0.0]\n",
      "\n"
     ]
    }
   ],
   "source": [
    "for i = 1:g\n",
    "    println(\"peso alvo do grupo $(i) = $(M[i])\")\n",
    "    println(\"peso total dos vertices do grupo $(i) = $(sum(getvalue(x[v,i])*pv[v] for v in 1:n))\")\n",
    "    println(\"distância minima dos vertices do grupo $(i) = $(getvalue(minD[i]))\")\n",
    "    print(\"vertices: \" )\n",
    "    for v = 1:n\n",
    "    \tif getvalue(x[v,i]) > 0\n",
    "\t    print(\"$(v), \");\n",
    "\tend\n",
    "    end\n",
    "    print(\"\\n \\n\");\n",
    "end"
   ]
  }
 ],
 "metadata": {
  "kernelspec": {
   "display_name": "Julia 0.6.1",
   "language": "julia",
   "name": "julia-0.6"
  },
  "language_info": {
   "file_extension": ".jl",
   "mimetype": "application/julia",
   "name": "julia",
   "version": "0.6.1"
  }
 },
 "nbformat": 4,
 "nbformat_minor": 2
}
