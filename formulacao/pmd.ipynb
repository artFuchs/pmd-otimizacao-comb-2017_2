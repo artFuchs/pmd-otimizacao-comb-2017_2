{
 "cells": [
  {
   "cell_type": "code",
   "execution_count": null,
   "metadata": {},
   "outputs": [],
   "source": [
    "using JuMP\n",
    "using GLPKMathProgInterface"
   ]
  },
  {
   "cell_type": "code",
   "execution_count": null,
   "metadata": {},
   "outputs": [],
   "source": [
    "#instância de exemplo\n",
    "n = 5\n",
    "g = 3\n",
    "\n",
    "pv = [1, 2, 3, 4, 5]\n",
    "vx = [50, 0, 23, 55, 103]\n",
    "vy = [-25, 0, 27, 28, 2]\n",
    "\n",
    "da = Array{Float64,2}(n,n);\n",
    "for i = 1:n\n",
    "    for j = (i+1):n\n",
    "        dx = vx[i] - vx[j]\n",
    "        dy = vy[i] - vy[j]\n",
    "        da[i, j] = sqrt(dx*dx + dy*dy)\n",
    "        da[j, i] = sqrt(dx*dx + dy*dy)\n",
    "    end\n",
    "end\n",
    "\n",
    "#\"infinito\"\n",
    "H = 100"
   ]
  },
  {
   "cell_type": "code",
   "execution_count": null,
   "metadata": {},
   "outputs": [],
   "source": [
    "#modelo e variaveis do problema\n",
    "m = Model(solver = GLPKSolverMIP())\n",
    "\n",
    "alpha = 0.05\n",
    "\n",
    "@variable(m, minD[1:g] >= 0)\n",
    "@variable(m, M[1:g] >= 0)\n",
    "@variable(m, x[1:n, 1:g], Bin)\n"
   ]
  },
  {
   "cell_type": "code",
   "execution_count": null,
   "metadata": {},
   "outputs": [],
   "source": [
    "@objective(m, Max, sum(minD[i] for i in 1:g))\n"
   ]
  },
  {
   "cell_type": "code",
   "execution_count": null,
   "metadata": {},
   "outputs": [],
   "source": [
    "for v = 1:n\n",
    "\tfor u = v+1:n\n",
    "        \tfor i = 1:g\n",
    "            \t\t@constraint(m, minD[i] <= da[u,v] + (2-(x[v,i]+x[u,i])*H))\n",
    "\t        end\n",
    "\tend\n",
    "\n",
    "\t@constraint(m, sum(x[v,k] for k in 1:g) <= 1)\n",
    "end\n",
    "\n",
    "for k = 1:g\n",
    "\t@constraints(m, begin\n",
    "\t\tsum(x[v,k]*pv[v] for v in 1:n) >= (1-alpha)*M[k]\n",
    "\t\tsum(x[v,k]*pv[v] for v in 1:n) <= (1+alpha)*M[k]\n",
    "\t\tend)\n",
    "end\n",
    "\n"
   ]
  },
  {
   "cell_type": "code",
   "execution_count": null,
   "metadata": {},
   "outputs": [],
   "source": [
    "print(m)\n"
   ]
  },
  {
   "cell_type": "code",
   "execution_count": null,
   "metadata": {},
   "outputs": [],
   "source": [
    "solve(m)"
   ]
  }
 ],
 "metadata": {
  "kernelspec": {
   "display_name": "Julia 0.6.1",
   "language": "julia",
   "name": "julia-0.6"
  },
  "language_info": {
   "file_extension": ".jl",
   "mimetype": "application/julia",
   "name": "julia",
   "version": "0.6.1"
  }
 },
 "nbformat": 4,
 "nbformat_minor": 2
}
