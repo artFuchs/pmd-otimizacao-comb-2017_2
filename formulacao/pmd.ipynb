{
 "cells": [
  {
   "cell_type": "code",
   "execution_count": 14,
   "metadata": {},
   "outputs": [],
   "source": [
    "using JuMP\n",
    "using GLPKMathProgInterface"
   ]
  },
  {
   "cell_type": "code",
   "execution_count": 15,
   "metadata": {},
   "outputs": [],
   "source": [
    "filename = \"teste.txt\"\n",
    "\n",
    "file = open(filename)\n",
    "lines = readlines(file);\n",
    "\n",
    "\n",
    "for (number, content) in enumerate(lines)\n",
    "    \n",
    "    # Lê o número de vértices e o número de grupos.\n",
    "    if number == 1\n",
    "        (n, g) = split(content)\n",
    "        n = parse(Int64, n)\n",
    "        g = parse(Int64, g)\n",
    "\n",
    "        pv = Array{Float64, 1}(n)\n",
    "        vx = Array{Float64, 1}(n)\n",
    "        vy = Array{Float64, 1}(n)\n",
    "        M = Array{Float64, 1}(g)\n",
    "    end\n",
    "    \n",
    "    # Lê os pesos e coordenadas dos vértices.\n",
    "    if number > 1 && number < n + 2\n",
    "        (p, x, y) = split(content)\n",
    "        p = parse(Float64, p)\n",
    "        x = parse(Float64, x)\n",
    "        y = parse(Float64, y)\n",
    "        \n",
    "        pv[number - 1] = p\n",
    "        vx[number - 1] = x\n",
    "        vy[number - 1] = y\n",
    "    \n",
    "        \n",
    "    end\n",
    "    \n",
    "    # Lê os pesos alvos dos grupos.\n",
    "    if number >= n + 2 && number <= n + g + 1\n",
    "        M[number - n - 1] = parse(Float64, content);\n",
    "    end\n",
    "end"
   ]
  },
  {
   "cell_type": "code",
   "execution_count": 20,
   "metadata": {},
   "outputs": []
   "source": [
    "da = Array{Float64,2}(n,n);\n",
    "for i = 1:n\n",
    "    for j = (i+1):n\n",
    "        dx = vx[i] - vx[j]\n",
    "        dy = vy[i] - vy[j]\n",
    "        da[i, j] = sqrt(dx*dx + dy*dy)\n",
    "        da[j, i] = sqrt(dx*dx + dy*dy)\n",
    "    end\n",
    "end\n",
    "\n",
    "H = 1000"
   ]
  },
  {
   "cell_type": "code",
   "execution_count": 21,
   "metadata": {},
   "outputs": [],
   "source": [
    "#modelo e variaveis do problema\n",
    "m = Model(solver = GLPKSolverMIP())\n",
    "\n",
    "alpha = 0.05\n",
    "\n",
    "@variable(m, minD[1:g] >= 0)\n",
    "@variable(m, x[1:n, 1:g], Bin)\n"
   ]
  },
  {
   "cell_type": "code",
   "execution_count": 22,
   "metadata": {},
   "outputs": [],
   "source": [
    "@objective(m, Max, sum(minD[i] for i in 1:g))\n"
   ]
  },
  {
   "cell_type": "code",
   "execution_count": 23,
   "metadata": {},
   "outputs": [],
   "source": [
    "for v = 1:n\n",
    "\tfor u = v+1:n\n",
    "        \tfor i = 1:g\n",
    "            \t@constraint(m, minD[i] <= da[u,v] + (2-(x[v,i]+x[u,i]))*H)\n",
    "\t        end\n",
    "\tend\n",
    "\n",
    "\t@constraint(m, sum(x[v,k] for k in 1:g) == 1)\n",
    "end\n",
    "\n",
    "for k = 1:g\n",
    "\t@constraints(m, begin\n",
    "\t\t(1-alpha)*M[k] <= sum(x[v,k]*pv[v] for v in 1:n)\n",
    "        sum(x[v,k]*pv[v] for v in 1:n) <= (1+alpha)*M[k]\n",
    "\t\tend)\n",
    "end\n",
    "\n"
   ]
  },
  {
   "cell_type": "code",
   "execution_count": null,
   "metadata": {},
   "outputs": [],
   "source": [
    "solve(m)"
   ]
  },
  {
   "cell_type": "code",
   "execution_count": 1,
   "metadata": {},
   "outputs": []
    }
   ],
   "source": [
    "for i = 1:g\n",
    "    println(\"peso alvo do grupo $(i) = $(M[i])\")\n",
    "    println(\"peso total dos vertices do grupo $(i) = $(sum(getvalue(x[v,i])*pv[v] for v in 1:n))\")\n",
    "    println(\"distância minima dos vertices do grupo $(i) = $(getvalue(minD[i]))\")\n",
    "    println(\"vertices: $(getvalue(x[1:n, i]))\")\n",
    "    println()\n",
    "end"
   ]
  },
  {
   "cell_type": "code",
   "execution_count": null,
   "metadata": {},
   "outputs": [],
   "source": []
  }
 ],
 "metadata": {
  "kernelspec": {
   "display_name": "Julia 0.6.0",
   "language": "julia",
   "name": "julia-0.6"
  },
  "language_info": {
   "file_extension": ".jl",
   "mimetype": "application/julia",
   "name": "julia",
   "version": "0.6.0"
  }
 },
 "nbformat": 4,
 "nbformat_minor": 2
}
