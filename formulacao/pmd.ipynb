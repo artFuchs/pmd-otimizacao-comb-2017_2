{
 "cells": [
  {
   "cell_type": "code",
   "execution_count": 1,
   "metadata": {},
   "outputs": [],
   "source": [
    "using JuMP\n",
    "using GLPKMathProgInterface"
   ]
  },
  {
   "cell_type": "code",
   "execution_count": 2,
   "metadata": {},
   "outputs": [
    {
     "data": {
      "text/plain": [
       "100"
      ]
     },
     "execution_count": 2,
     "metadata": {},
     "output_type": "execute_result"
    }
   ],
   "source": [
    "#instância de exemplo\n",
    "n = 5\n",
    "g = 3\n",
    "\n",
    "pv = [1, 2, 3, 4, 5]\n",
    "vx = [50, 0, 23, 55, 103]\n",
    "vy = [-25, 0, 27, 28, 2]\n",
    "M = [5, 4, 6]\n",
    "\n",
    "da = Array{Float64,2}(n,n);\n",
    "for i = 1:n\n",
    "    for j = (i+1):n\n",
    "        dx = vx[i] - vx[j]\n",
    "        dy = vy[i] - vy[j]\n",
    "        da[i, j] = sqrt(dx*dx + dy*dy)\n",
    "        da[j, i] = sqrt(dx*dx + dy*dy)\n",
    "    end\n",
    "end\n",
    "\n",
    "#\"infinito\"\n",
    "H = 100"
   ]
  },
  {
   "cell_type": "code",
   "execution_count": 3,
   "metadata": {},
   "outputs": [
    {
     "data": {
      "text/latex": [
       "$$ x_{i,j} \\in \\{0,1\\} \\quad\\forall i \\in \\{1,2,3,4,5\\}, j \\in \\{1,2,3\\} $$"
      ],
      "text/plain": [
       "5×3 Array{JuMP.Variable,2}:\n",
       " x[1,1]  x[1,2]  x[1,3]\n",
       " x[2,1]  x[2,2]  x[2,3]\n",
       " x[3,1]  x[3,2]  x[3,3]\n",
       " x[4,1]  x[4,2]  x[4,3]\n",
       " x[5,1]  x[5,2]  x[5,3]"
      ]
     },
     "execution_count": 3,
     "metadata": {},
     "output_type": "execute_result"
    }
   ],
   "source": [
    "#modelo e variaveis do problema\n",
    "m = Model(solver = GLPKSolverMIP())\n",
    "\n",
    "alpha = 0.05\n",
    "\n",
    "@variable(m, minD[1:g] >= 0)\n",
    "@variable(m, x[1:n, 1:g], Bin)\n"
   ]
  },
  {
   "cell_type": "code",
   "execution_count": 4,
   "metadata": {},
   "outputs": [
    {
     "data": {
      "text/latex": [
       "$$ minD_{1} + minD_{2} + minD_{3} $$"
      ],
      "text/plain": [
       "minD[1] + minD[2] + minD[3]"
      ]
     },
     "execution_count": 4,
     "metadata": {},
     "output_type": "execute_result"
    }
   ],
   "source": [
    "@objective(m, Max, sum(minD[i] for i in 1:g))\n"
   ]
  },
  {
   "cell_type": "code",
   "execution_count": 5,
   "metadata": {},
   "outputs": [],
   "source": [
    "for v = 1:n\n",
    "\tfor u = v+1:n\n",
    "        \tfor i = 1:g\n",
    "            \t@constraint(m, minD[i] <= da[u,v] + (2-(x[v,i]+x[u,i]))*H)\n",
    "\t        end\n",
    "\tend\n",
    "\n",
    "\t@constraint(m, sum(x[v,k] for k in 1:g) == 1)\n",
    "end\n",
    "\n",
    "for k = 1:g\n",
    "\t@constraints(m, begin\n",
    "\t\t(1-alpha)*M[k] <= sum(x[v,k]*pv[v] for v in 1:n)\n",
    "        sum(x[v,k]*pv[v] for v in 1:n) <= (1+alpha)*M[k]\n",
    "\t\tend)\n",
    "end\n",
    "\n"
   ]
  },
  {
   "cell_type": "code",
   "execution_count": 6,
   "metadata": {},
   "outputs": [
    {
     "name": "stdout",
     "output_type": "stream",
     "text": [
      "Max minD[1] + minD[2] + minD[3]\n",
      "Subject to\n",
      " minD[1] + 100 x[1,1] + 100 x[2,1] ≤ 255.90169943749476\n",
      " minD[2] + 100 x[1,2] + 100 x[2,2] ≤ 255.90169943749476\n",
      " minD[3] + 100 x[1,3] + 100 x[2,3] ≤ 255.90169943749476\n",
      " minD[1] + 100 x[1,1] + 100 x[3,1] ≤ 258.591808301161\n",
      " minD[2] + 100 x[1,2] + 100 x[3,2] ≤ 258.591808301161\n",
      " minD[3] + 100 x[1,3] + 100 x[3,3] ≤ 258.591808301161\n",
      " minD[1] + 100 x[1,1] + 100 x[4,1] ≤ 253.23532661682466\n",
      " minD[2] + 100 x[1,2] + 100 x[4,2] ≤ 253.23532661682466\n",
      " minD[3] + 100 x[1,3] + 100 x[4,3] ≤ 253.23532661682466\n",
      " minD[1] + 100 x[1,1] + 100 x[5,1] ≤ 259.4810894318522\n",
      " minD[2] + 100 x[1,2] + 100 x[5,2] ≤ 259.4810894318522\n",
      " minD[3] + 100 x[1,3] + 100 x[5,3] ≤ 259.4810894318522\n",
      " x[1,1] + x[1,2] + x[1,3] = 1\n",
      " minD[1] + 100 x[2,1] + 100 x[3,1] ≤ 235.4682957019364\n",
      " minD[2] + 100 x[2,2] + 100 x[3,2] ≤ 235.4682957019364\n",
      " minD[3] + 100 x[2,3] + 100 x[3,3] ≤ 235.4682957019364\n",
      " minD[1] + 100 x[2,1] + 100 x[4,1] ≤ 261.7170964968379\n",
      " minD[2] + 100 x[2,2] + 100 x[4,2] ≤ 261.7170964968379\n",
      " minD[3] + 100 x[2,3] + 100 x[4,3] ≤ 261.7170964968379\n",
      " minD[1] + 100 x[2,1] + 100 x[5,1] ≤ 303.01941564578976\n",
      " minD[2] + 100 x[2,2] + 100 x[5,2] ≤ 303.01941564578976\n",
      " minD[3] + 100 x[2,3] + 100 x[5,3] ≤ 303.01941564578976\n",
      " x[2,1] + x[2,2] + x[2,3] = 1\n",
      " minD[1] + 100 x[3,1] + 100 x[4,1] ≤ 232.01562118716424\n",
      " minD[2] + 100 x[3,2] + 100 x[4,2] ≤ 232.01562118716424\n",
      " minD[3] + 100 x[3,3] + 100 x[4,3] ≤ 232.01562118716424\n",
      " minD[1] + 100 x[3,1] + 100 x[5,1] ≤ 283.81527307120103\n",
      " minD[2] + 100 x[3,2] + 100 x[5,2] ≤ 283.81527307120103\n",
      " minD[3] + 100 x[3,3] + 100 x[5,3] ≤ 283.81527307120103\n",
      " x[3,1] + x[3,2] + x[3,3] = 1\n",
      " minD[1] + 100 x[4,1] + 100 x[5,1] ≤ 254.58937625582473\n",
      " minD[2] + 100 x[4,2] + 100 x[5,2] ≤ 254.58937625582473\n",
      " minD[3] + 100 x[4,3] + 100 x[5,3] ≤ 254.58937625582473\n",
      " x[4,1] + x[4,2] + x[4,3] = 1\n",
      " x[5,1] + x[5,2] + x[5,3] = 1\n",
      " -x[1,1] - 2 x[2,1] - 3 x[3,1] - 4 x[4,1] - 5 x[5,1] ≤ -4.75\n",
      " x[1,1] + 2 x[2,1] + 3 x[3,1] + 4 x[4,1] + 5 x[5,1] ≤ 5.25\n",
      " -x[1,2] - 2 x[2,2] - 3 x[3,2] - 4 x[4,2] - 5 x[5,2] ≤ -3.8\n",
      " x[1,2] + 2 x[2,2] + 3 x[3,2] + 4 x[4,2] + 5 x[5,2] ≤ 4.2\n",
      " -x[1,3] - 2 x[2,3] - 3 x[3,3] - 4 x[4,3] - 5 x[5,3] ≤ -5.7\n",
      " x[1,3] + 2 x[2,3] + 3 x[3,3] + 4 x[4,3] + 5 x[5,3] ≤ 6.3\n",
      " minD[i] ≥ 0 ∀ i ∈ {1,2,3}\n",
      " x[i,j] ∈ {0,1} ∀ i ∈ {1,2,3,4,5}, j ∈ {1,2,3}\n"
     ]
    }
   ],
   "source": [
    "print(m)\n"
   ]
  },
  {
   "cell_type": "code",
   "execution_count": 7,
   "metadata": {},
   "outputs": [
    {
     "data": {
      "text/plain": [
       ":Optimal"
      ]
     },
     "execution_count": 7,
     "metadata": {},
     "output_type": "execute_result"
    }
   ],
   "source": [
    "solve(m)"
   ]
  },
  {
   "cell_type": "code",
   "execution_count": 10,
   "metadata": {},
   "outputs": [
    {
     "name": "stdout",
     "output_type": "stream",
     "text": [
      "peso alvo do grupo 1 = 5)\n",
      "peso total dos vertices do grupo 1 = 5.0\n",
      "distância minima dos vertices do grupo 1 = 154.58937625582473\n",
      "vertices: [0.0, 0.0, 0.0, 0.0, 1.0]\n",
      "peso alvo do grupo 2 = 4)\n",
      "peso total dos vertices do grupo 2 = 4.0\n",
      "distância minima dos vertices do grupo 2 = 132.01562118716424\n",
      "vertices: [0.0, 0.0, 0.0, 1.0, 0.0]\n",
      "peso alvo do grupo 3 = 6)\n",
      "peso total dos vertices do grupo 3 = 6.0\n",
      "distância minima dos vertices do grupo 3 = 35.4682957019364\n",
      "vertices: [1.0, 1.0, 1.0, 0.0, 0.0]\n"
     ]
    }
   ],
   "source": [
    "for i = 1:g\n",
    "    println(\"peso alvo do grupo $(i) = $(M[i])\")\n",
    "    println(\"peso total dos vertices do grupo $(i) = $(sum(getvalue(x[v,i])*pv[v] for v in 1:n))\")\n",
    "    println(\"distância minima dos vertices do grupo $(i) = $(getvalue(minD[i]))\")\n",
    "    println(\"vertices: $(getvalue(x[1:n, i]))\")\n",
    "end"
   ]
  },
  {
   "cell_type": "code",
   "execution_count": null,
   "metadata": {},
   "outputs": [],
   "source": []
  }
 ],
 "metadata": {
  "kernelspec": {
   "display_name": "Julia 0.6.1",
   "language": "julia",
   "name": "julia-0.6"
  },
  "language_info": {
   "file_extension": ".jl",
   "mimetype": "application/julia",
   "name": "julia",
   "version": "0.6.1"
  }
 },
 "nbformat": 4,
 "nbformat_minor": 2
}
