{
 "cells": [
  {
   "cell_type": "code",
   "execution_count": 2,
   "metadata": {},
   "outputs": [],
   "source": [
    "using JuMP\n",
    "using GLPKMathProgInterface"
   ]
  },
  {
   "cell_type": "code",
   "execution_count": 5,
   "metadata": {},
   "outputs": [
    {
     "name": "stdout",
     "output_type": "stream",
     "text": [
      "5 3\n",
      "[1.0, 2.0, 3.0, 4.0, 5.0]\n",
      "[50.0, 0.0, 23.0, 55.0, 103.0]\n",
      "[-25.0, 0.0, 27.0, 28.0, 2.0]\n",
      "[5.0, 4.0, 6.0]\n"
     ]
    }
   ],
   "source": [
    "filename = \"teste\"\n",
    "\n",
    "file = open(filename)\n",
    "lines = readlines(file);\n",
    "\n",
    "n=0\n",
    "g=0\n",
    "pv=0\n",
    "vx=0\n",
    "vy=0\n",
    "M=0\n",
    "\n",
    "for (number, content) in enumerate(lines)\n",
    "    \n",
    "    # Lê o número de vértices e o número de grupos.\n",
    "    if number == 1\n",
    "        (n1, g1) = split(content)\n",
    "        n = parse(Int64, n1)\n",
    "        g = parse(Int64, g1)\n",
    "\n",
    "        pv = Array{Float64, 1}(n)\n",
    "        vx = Array{Float64, 1}(n)\n",
    "        vy = Array{Float64, 1}(n)\n",
    "        M = Array{Float64, 1}(g)\n",
    "    end\n",
    "    \n",
    "    # Lê os pesos e coordenadas dos vértices.\n",
    "    if number > 1 && number < n + 2\n",
    "        (p, x, y) = split(content)\n",
    "        p = parse(Float64, p)\n",
    "        x = parse(Float64, x)\n",
    "        y = parse(Float64, y)\n",
    "        \n",
    "        pv[number - 1] = p\n",
    "        vx[number - 1] = x\n",
    "        vy[number - 1] = y\n",
    "    \n",
    "        \n",
    "    end\n",
    "    \n",
    "    # Lê os pesos alvos dos grupos.\n",
    "    if number >= n + 2 && number <= n + g + 1\n",
    "        M[number - n - 1] = parse(Float64, content);\n",
    "    end\n",
    "end\n",
    "\n",
    "println(n , \" \" , g)\n",
    "println(pv)\n",
    "println(vx)\n",
    "println(vy)\n",
    "println(M)"
   ]
  },
  {
   "cell_type": "code",
   "execution_count": null,
   "metadata": {},
   "outputs": [],
   "source": [
    "da = Array{Float64,2}(n,n);\n",
    "H = 0;\n",
    "for i = 1:n\n",
    "    for j = (i+1):n\n",
    "        dx = vx[i] - vx[j]\n",
    "        dy = vy[i] - vy[j]\n",
    "        da[i, j] = sqrt(dx*dx + dy*dy)\n",
    "        da[j, i] = sqrt(dx*dx + dy*dy)\n",
    "        if H < da[i, j]\n",
    "            H = da[i,j]\n",
    "        end\n",
    "    end\n",
    "end"
   ]
  },
  {
   "cell_type": "code",
   "execution_count": null,
   "metadata": {},
   "outputs": [],
   "source": [
    "#modelo e variaveis do problema\n",
    "m = Model(solver = GLPKSolverMIP())\n",
    "\n",
    "alpha = 0.05\n",
    "\n",
    "@variable(m, minD[1:g] >= 0)\n",
    "@variable(m, x[1:n, 1:g], Bin)\n"
   ]
  },
  {
   "cell_type": "code",
   "execution_count": null,
   "metadata": {},
   "outputs": [],
   "source": [
    "@objective(m, Max, sum(minD[i] for i in 1:g))\n"
   ]
  },
  {
   "cell_type": "code",
   "execution_count": null,
   "metadata": {},
   "outputs": [],
   "source": [
    "for v = 1:n\n",
    "\tfor u = v+1:n\n",
    "        \tfor i = 1:g\n",
    "            \t@constraint(m, minD[i] <= da[u,v] + (2-(x[v,i]+x[u,i]))*H)\n",
    "\t        end\n",
    "\tend\n",
    "\n",
    "\t@constraint(m, sum(x[v,k] for k in 1:g) == 1)\n",
    "end\n",
    "\n",
    "for k = 1:g\n",
    "\t@constraints(m, begin\n",
    "\t\t(1-alpha)*M[k] <= sum(x[v,k]*pv[v] for v in 1:n)\n",
    "        sum(x[v,k]*pv[v] for v in 1:n) <= (1+alpha)*M[k]\n",
    "\t\tend)\n",
    "end\n",
    "\n"
   ]
  },
  {
   "cell_type": "code",
   "execution_count": null,
   "metadata": {},
   "outputs": [],
   "source": [
    "solve(m)"
   ]
  },
  {
   "cell_type": "code",
   "execution_count": null,
   "metadata": {},
   "outputs": [],
   "source": [
    "for i = 1:g\n",
    "    println(\"peso alvo do grupo $(i) = $(M[i])\")\n",
    "    println(\"peso total dos vertices do grupo $(i) = $(sum(getvalue(x[v,i])*pv[v] for v in 1:n))\")\n",
    "    println(\"distância minima dos vertices do grupo $(i) = $(getvalue(minD[i]))\")\n",
    "    println(\"vertices: $(getvalue(x[1:n, i]))\")\n",
    "    println()\n",
    "end"
   ]
  },
  {
   "cell_type": "code",
   "execution_count": null,
   "metadata": {},
   "outputs": [],
   "source": []
  }
 ],
 "metadata": {
  "kernelspec": {
   "display_name": "Julia 0.6.1",
   "language": "julia",
   "name": "julia-0.6"
  },
  "language_info": {
   "file_extension": ".jl",
   "mimetype": "application/julia",
   "name": "julia",
   "version": "0.6.1"
  }
 },
 "nbformat": 4,
 "nbformat_minor": 2
}
